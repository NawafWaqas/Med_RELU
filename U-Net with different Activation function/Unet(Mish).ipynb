{
 "cells": [
  {
   "cell_type": "code",
   "execution_count": 1,
   "metadata": {},
   "outputs": [
    {
     "name": "stderr",
     "output_type": "stream",
     "text": [
      "C:\\Users\\Muhammad Yahya\\Anaconda3\\lib\\site-packages\\tensorflow\\python\\framework\\dtypes.py:516: FutureWarning: Passing (type, 1) or '1type' as a synonym of type is deprecated; in a future version of numpy, it will be understood as (type, (1,)) / '(1,)type'.\n",
      "  _np_qint8 = np.dtype([(\"qint8\", np.int8, 1)])\n",
      "C:\\Users\\Muhammad Yahya\\Anaconda3\\lib\\site-packages\\tensorflow\\python\\framework\\dtypes.py:517: FutureWarning: Passing (type, 1) or '1type' as a synonym of type is deprecated; in a future version of numpy, it will be understood as (type, (1,)) / '(1,)type'.\n",
      "  _np_quint8 = np.dtype([(\"quint8\", np.uint8, 1)])\n",
      "C:\\Users\\Muhammad Yahya\\Anaconda3\\lib\\site-packages\\tensorflow\\python\\framework\\dtypes.py:518: FutureWarning: Passing (type, 1) or '1type' as a synonym of type is deprecated; in a future version of numpy, it will be understood as (type, (1,)) / '(1,)type'.\n",
      "  _np_qint16 = np.dtype([(\"qint16\", np.int16, 1)])\n",
      "C:\\Users\\Muhammad Yahya\\Anaconda3\\lib\\site-packages\\tensorflow\\python\\framework\\dtypes.py:519: FutureWarning: Passing (type, 1) or '1type' as a synonym of type is deprecated; in a future version of numpy, it will be understood as (type, (1,)) / '(1,)type'.\n",
      "  _np_quint16 = np.dtype([(\"quint16\", np.uint16, 1)])\n",
      "C:\\Users\\Muhammad Yahya\\Anaconda3\\lib\\site-packages\\tensorflow\\python\\framework\\dtypes.py:520: FutureWarning: Passing (type, 1) or '1type' as a synonym of type is deprecated; in a future version of numpy, it will be understood as (type, (1,)) / '(1,)type'.\n",
      "  _np_qint32 = np.dtype([(\"qint32\", np.int32, 1)])\n",
      "C:\\Users\\Muhammad Yahya\\Anaconda3\\lib\\site-packages\\tensorflow\\python\\framework\\dtypes.py:525: FutureWarning: Passing (type, 1) or '1type' as a synonym of type is deprecated; in a future version of numpy, it will be understood as (type, (1,)) / '(1,)type'.\n",
      "  np_resource = np.dtype([(\"resource\", np.ubyte, 1)])\n",
      "C:\\Users\\Muhammad Yahya\\Anaconda3\\lib\\site-packages\\tensorboard\\compat\\tensorflow_stub\\dtypes.py:541: FutureWarning: Passing (type, 1) or '1type' as a synonym of type is deprecated; in a future version of numpy, it will be understood as (type, (1,)) / '(1,)type'.\n",
      "  _np_qint8 = np.dtype([(\"qint8\", np.int8, 1)])\n",
      "C:\\Users\\Muhammad Yahya\\Anaconda3\\lib\\site-packages\\tensorboard\\compat\\tensorflow_stub\\dtypes.py:542: FutureWarning: Passing (type, 1) or '1type' as a synonym of type is deprecated; in a future version of numpy, it will be understood as (type, (1,)) / '(1,)type'.\n",
      "  _np_quint8 = np.dtype([(\"quint8\", np.uint8, 1)])\n",
      "C:\\Users\\Muhammad Yahya\\Anaconda3\\lib\\site-packages\\tensorboard\\compat\\tensorflow_stub\\dtypes.py:543: FutureWarning: Passing (type, 1) or '1type' as a synonym of type is deprecated; in a future version of numpy, it will be understood as (type, (1,)) / '(1,)type'.\n",
      "  _np_qint16 = np.dtype([(\"qint16\", np.int16, 1)])\n",
      "C:\\Users\\Muhammad Yahya\\Anaconda3\\lib\\site-packages\\tensorboard\\compat\\tensorflow_stub\\dtypes.py:544: FutureWarning: Passing (type, 1) or '1type' as a synonym of type is deprecated; in a future version of numpy, it will be understood as (type, (1,)) / '(1,)type'.\n",
      "  _np_quint16 = np.dtype([(\"quint16\", np.uint16, 1)])\n",
      "C:\\Users\\Muhammad Yahya\\Anaconda3\\lib\\site-packages\\tensorboard\\compat\\tensorflow_stub\\dtypes.py:545: FutureWarning: Passing (type, 1) or '1type' as a synonym of type is deprecated; in a future version of numpy, it will be understood as (type, (1,)) / '(1,)type'.\n",
      "  _np_qint32 = np.dtype([(\"qint32\", np.int32, 1)])\n",
      "C:\\Users\\Muhammad Yahya\\Anaconda3\\lib\\site-packages\\tensorboard\\compat\\tensorflow_stub\\dtypes.py:550: FutureWarning: Passing (type, 1) or '1type' as a synonym of type is deprecated; in a future version of numpy, it will be understood as (type, (1,)) / '(1,)type'.\n",
      "  np_resource = np.dtype([(\"resource\", np.ubyte, 1)])\n",
      "Using TensorFlow backend.\n"
     ]
    }
   ],
   "source": [
    "## Imports\n",
    "import os\n",
    "import sys\n",
    "import random\n",
    "\n",
    "import numpy as np\n",
    "import cv2\n",
    "import matplotlib.pyplot as plt\n",
    "\n",
    "import tensorflow as tf\n",
    "from tensorflow import keras\n",
    "from keras.layers.normalization import BatchNormalization\n",
    "\n",
    "## Seeding \n",
    "seed = 2019\n",
    "random.seed = seed\n",
    "np.random.seed = seed\n",
    "tf.seed = seed"
   ]
  },
  {
   "cell_type": "code",
   "execution_count": 2,
   "metadata": {},
   "outputs": [],
   "source": [
    "def silu(x):\n",
    "    return x * tf.keras.activations.tanh(tf.keras.activations.softplus(x))"
   ]
  },
  {
   "cell_type": "code",
   "execution_count": 3,
   "metadata": {},
   "outputs": [],
   "source": [
    "class DataGen(keras.utils.Sequence):\n",
    "    def __init__(self, ids, path, batch_size=16, image_size=128):\n",
    "        self.ids = ids\n",
    "        self.path = path\n",
    "        self.batch_size = batch_size\n",
    "        self.image_size = image_size\n",
    "        self.on_epoch_end()\n",
    "        \n",
    "    def __load__(self, id_name):\n",
    "        ## Path\n",
    "        image_path = os.path.join(self.path, id_name, \"images\", id_name) + \".png\"\n",
    "        mask_path = os.path.join(self.path, id_name, \"masks/\")\n",
    "        all_masks = os.listdir(mask_path)\n",
    "        \n",
    "        ## Reading Image\n",
    "        image = cv2.imread(image_path, 1)\n",
    "        image = cv2.resize(image, (self.image_size, self.image_size))\n",
    "        \n",
    "        mask = np.zeros((self.image_size, self.image_size, 1))\n",
    "        \n",
    "        ## Reading Masks\n",
    "        for name in all_masks:\n",
    "            _mask_path = mask_path + name\n",
    "            _mask_image = cv2.imread(_mask_path, -1)\n",
    "            _mask_image = cv2.resize(_mask_image, (self.image_size, self.image_size)) #128x128\n",
    "            _mask_image = np.expand_dims(_mask_image, axis=-1)\n",
    "            mask = np.maximum(mask, _mask_image)\n",
    "            ## Normalizaing \n",
    "        image = image/255.0\n",
    "        mask = mask/255.0\n",
    "        \n",
    "        return image, mask\n",
    "    \n",
    "    def __getitem__(self, index):\n",
    "        if(index+1)*self.batch_size > len(self.ids):\n",
    "            self.batch_size = len(self.ids) - index*self.batch_size\n",
    "        \n",
    "        files_batch = self.ids[index*self.batch_size : (index+1)*self.batch_size]\n",
    "        \n",
    "        image = []\n",
    "        mask  = []\n",
    "        \n",
    "        for id_name in files_batch:\n",
    "            _img, _mask = self.__load__(id_name)\n",
    "            image.append(_img)\n",
    "            mask.append(_mask)\n",
    "            \n",
    "        image = np.array(image)\n",
    "        mask  = np.array(mask)\n",
    "        \n",
    "        return image, mask\n",
    "    \n",
    "    def on_epoch_end(self):\n",
    "        pass\n",
    "    \n",
    "    def __len__(self):\n",
    "        return int(np.ceil(len(self.ids)/float(self.batch_size)))"
   ]
  },
  {
   "cell_type": "code",
   "execution_count": 4,
   "metadata": {},
   "outputs": [],
   "source": [
    "image_size = 128\n",
    "train_path = r\"C:\\Users\\Muhammad Yahya\\Desktop\\stage1_train\"\n",
    "epochs = 35\n",
    "batch_size = 16\n",
    "\n",
    "## Training Ids\n",
    "train_ids = next(os.walk(train_path))[1]\n",
    "\n",
    "## Validation Data Size\n",
    "val_data_size = 30\n",
    "\n",
    "valid_ids = train_ids[:val_data_size]\n",
    "train_ids = train_ids[val_data_size:]"
   ]
  },
  {
   "cell_type": "code",
   "execution_count": 5,
   "metadata": {},
   "outputs": [
    {
     "name": "stdout",
     "output_type": "stream",
     "text": [
      "(16, 128, 128, 3) (16, 128, 128, 1)\n"
     ]
    }
   ],
   "source": [
    "gen = DataGen(train_ids, train_path, batch_size=batch_size, image_size=image_size)\n",
    "x, y = gen.__getitem__(0)\n",
    "print(x.shape, y.shape)"
   ]
  },
  {
   "cell_type": "code",
   "execution_count": 6,
   "metadata": {},
   "outputs": [
    {
     "data": {
      "text/plain": [
       "<matplotlib.image.AxesImage at 0x23fe842cac8>"
      ]
     },
     "execution_count": 6,
     "metadata": {},
     "output_type": "execute_result"
    },
    {
     "data": {
      "image/png": "[encoded data removed]",
      "text/plain": [
       "<Figure size 432x288 with 2 Axes>"
      ]
     },
     "metadata": {
      "needs_background": "light"
     },
     "output_type": "display_data"
    }
   ],
   "source": [
    "r = random.randint(0, len(x)-1)\n",
    "\n",
    "fig = plt.figure()\n",
    "fig.subplots_adjust(hspace=0.4, wspace=0.4)\n",
    "ax = fig.add_subplot(1, 2, 1)\n",
    "ax.imshow(x[r])\n",
    "ax = fig.add_subplot(1, 2, 2)\n",
    "ax.imshow(np.reshape(y[r], (image_size, image_size)), cmap=\"gray\")"
   ]
  },
  {
   "cell_type": "code",
   "execution_count": 7,
   "metadata": {},
   "outputs": [],
   "source": [
    "def down_block(x, filters, kernel_size=(3, 3), padding=\"same\", strides=1):\n",
    "    c = keras.layers.Conv2D(filters, kernel_size, padding=padding, strides=strides)(x)\n",
    "    c = c * tf.keras.activations.tanh(tf.keras.activations.softplus(c))\n",
    "    c = keras.layers.Conv2D(filters, kernel_size, padding=padding, strides=strides)(c)\n",
    "    c = c * tf.keras.activations.tanh(tf.keras.activations.softplus(c))\n",
    "    p = keras.layers.MaxPool2D((2, 2), (2, 2))(c)\n",
    "    return c, p\n",
    "\n",
    "def up_block(x, skip, filters, kernel_size=(3, 3), padding=\"same\", strides=1):\n",
    "    us = keras.layers.UpSampling2D((2, 2))(x)\n",
    "    concat = keras.layers.Concatenate()([us, skip])\n",
    "    c = keras.layers.Conv2D(filters, kernel_size, padding=padding, strides=strides)(concat)\n",
    "    c = c * tf.keras.activations.tanh(tf.keras.activations.softplus(c))\n",
    "    c = keras.layers.Conv2D(filters, kernel_size, padding=padding, strides=strides)(c)\n",
    "    c = c * tf.keras.activations.tanh(tf.keras.activations.softplus(c))\n",
    "    return c\n",
    "\n",
    "def bottleneck(x, filters, kernel_size=(3, 3), padding=\"same\", strides=1):\n",
    "    c = keras.layers.Conv2D(filters, kernel_size, padding=padding, strides=strides)(x)\n",
    "    c = c * tf.keras.activations.tanh(tf.keras.activations.softplus(c))\n",
    "    c = keras.layers.Conv2D(filters, kernel_size, padding=padding, strides=strides)(c)\n",
    "    c = c * tf.keras.activations.tanh(tf.keras.activations.softplus(c))\n",
    "    return c"
   ]
  },
  {
   "cell_type": "code",
   "execution_count": 8,
   "metadata": {},
   "outputs": [],
   "source": [
    "def UNet():\n",
    "    f = [16, 32, 64, 128, 256]\n",
    "    inputs = keras.layers.Input((image_size, image_size, 3))\n",
    "   \n",
    "    \n",
    "    p0 = inputs\n",
    "    c1, p1 = down_block(p0, f[0]) #128 -> 64\n",
    "    c2, p2 = down_block(p1, f[1]) #64 -> 32\n",
    "    c3, p3 = down_block(p2, f[2]) #32 -> 16\n",
    "    c4, p4 = down_block(p3, f[3]) #16->8\n",
    "    \n",
    "    bn = bottleneck(p4, f[4])\n",
    "    \n",
    "    u1 = up_block(bn, c4, f[3]) #8 -> 16\n",
    "    u2 = up_block(u1, c3, f[2]) #16 -> 32\n",
    "    u3 = up_block(u2, c2, f[1]) #32 -> 64\n",
    "    u4 = up_block(u3, c1, f[0]) #64 -> 128\n",
    "    \n",
    "    outputs = keras.layers.Conv2D(1, (2, 2), padding=\"same\",  activation=\"sigmoid\")(u4)\n",
    "    model = keras.models.Model(inputs, outputs)\n",
    "    return model"
   ]
  },
  {
   "cell_type": "code",
   "execution_count": 9,
   "metadata": {},
   "outputs": [
    {
     "name": "stdout",
     "output_type": "stream",
     "text": [
      "WARNING:tensorflow:From C:\\Users\\Muhammad Yahya\\Anaconda3\\lib\\site-packages\\tensorflow\\python\\ops\\init_ops.py:1251: calling VarianceScaling.__init__ (from tensorflow.python.ops.init_ops) with dtype is deprecated and will be removed in a future version.\n",
      "Instructions for updating:\n",
      "Call initializer instance with the dtype argument instead of passing it to the constructor\n",
      "WARNING:tensorflow:From C:\\Users\\Muhammad Yahya\\Anaconda3\\lib\\site-packages\\tensorflow\\python\\ops\\nn_impl.py:180: add_dispatch_support.<locals>.wrapper (from tensorflow.python.ops.array_ops) is deprecated and will be removed in a future version.\n",
      "Instructions for updating:\n",
      "Use tf.where in 2.0, which has the same broadcast rule as np.where\n",
      "Model: \"model\"\n",
      "__________________________________________________________________________________________________\n",
      "Layer (type)                    Output Shape         Param #     Connected to                     \n",
      "==================================================================================================\n",
      "input_1 (InputLayer)            [(None, 128, 128, 3) 0                                            \n",
      "__________________________________________________________________________________________________\n",
      "conv2d (Conv2D)                 (None, 128, 128, 16) 448         input_1[0][0]                    \n",
      "__________________________________________________________________________________________________\n",
      "tf_op_layer_Softplus (TensorFlo [(None, 128, 128, 16 0           conv2d[0][0]                     \n",
      "__________________________________________________________________________________________________\n",
      "tf_op_layer_Tanh (TensorFlowOpL [(None, 128, 128, 16 0           tf_op_layer_Softplus[0][0]       \n",
      "__________________________________________________________________________________________________\n",
      "tf_op_layer_mul (TensorFlowOpLa [(None, 128, 128, 16 0           conv2d[0][0]                     \n",
      "                                                                 tf_op_layer_Tanh[0][0]           \n",
      "__________________________________________________________________________________________________\n",
      "conv2d_1 (Conv2D)               (None, 128, 128, 16) 2320        tf_op_layer_mul[0][0]            \n",
      "__________________________________________________________________________________________________\n",
      "tf_op_layer_Softplus_1 (TensorF [(None, 128, 128, 16 0           conv2d_1[0][0]                   \n",
      "__________________________________________________________________________________________________\n",
      "tf_op_layer_Tanh_1 (TensorFlowO [(None, 128, 128, 16 0           tf_op_layer_Softplus_1[0][0]     \n",
      "__________________________________________________________________________________________________\n",
      "tf_op_layer_mul_1 (TensorFlowOp [(None, 128, 128, 16 0           conv2d_1[0][0]                   \n",
      "                                                                 tf_op_layer_Tanh_1[0][0]         \n",
      "__________________________________________________________________________________________________\n",
      "max_pooling2d (MaxPooling2D)    (None, 64, 64, 16)   0           tf_op_layer_mul_1[0][0]          \n",
      "__________________________________________________________________________________________________\n",
      "conv2d_2 (Conv2D)               (None, 64, 64, 32)   4640        max_pooling2d[0][0]              \n",
      "__________________________________________________________________________________________________\n",
      "tf_op_layer_Softplus_2 (TensorF [(None, 64, 64, 32)] 0           conv2d_2[0][0]                   \n",
      "__________________________________________________________________________________________________\n",
      "tf_op_layer_Tanh_2 (TensorFlowO [(None, 64, 64, 32)] 0           tf_op_layer_Softplus_2[0][0]     \n",
      "__________________________________________________________________________________________________\n",
      "tf_op_layer_mul_2 (TensorFlowOp [(None, 64, 64, 32)] 0           conv2d_2[0][0]                   \n",
      "                                                                 tf_op_layer_Tanh_2[0][0]         \n",
      "__________________________________________________________________________________________________\n",
      "conv2d_3 (Conv2D)               (None, 64, 64, 32)   9248        tf_op_layer_mul_2[0][0]          \n",
      "__________________________________________________________________________________________________\n",
      "tf_op_layer_Softplus_3 (TensorF [(None, 64, 64, 32)] 0           conv2d_3[0][0]                   \n",
      "__________________________________________________________________________________________________\n",
      "tf_op_layer_Tanh_3 (TensorFlowO [(None, 64, 64, 32)] 0           tf_op_layer_Softplus_3[0][0]     \n",
      "__________________________________________________________________________________________________\n",
      "tf_op_layer_mul_3 (TensorFlowOp [(None, 64, 64, 32)] 0           conv2d_3[0][0]                   \n",
      "                                                                 tf_op_layer_Tanh_3[0][0]         \n",
      "__________________________________________________________________________________________________\n",
      "max_pooling2d_1 (MaxPooling2D)  (None, 32, 32, 32)   0           tf_op_layer_mul_3[0][0]          \n",
      "__________________________________________________________________________________________________\n",
      "conv2d_4 (Conv2D)               (None, 32, 32, 64)   18496       max_pooling2d_1[0][0]            \n",
      "__________________________________________________________________________________________________\n",
      "tf_op_layer_Softplus_4 (TensorF [(None, 32, 32, 64)] 0           conv2d_4[0][0]                   \n",
      "__________________________________________________________________________________________________\n",
      "tf_op_layer_Tanh_4 (TensorFlowO [(None, 32, 32, 64)] 0           tf_op_layer_Softplus_4[0][0]     \n",
      "__________________________________________________________________________________________________\n",
      "tf_op_layer_mul_4 (TensorFlowOp [(None, 32, 32, 64)] 0           conv2d_4[0][0]                   \n",
      "                                                                 tf_op_layer_Tanh_4[0][0]         \n",
      "__________________________________________________________________________________________________\n",
      "conv2d_5 (Conv2D)               (None, 32, 32, 64)   36928       tf_op_layer_mul_4[0][0]          \n",
      "__________________________________________________________________________________________________\n",
      "tf_op_layer_Softplus_5 (TensorF [(None, 32, 32, 64)] 0           conv2d_5[0][0]                   \n",
      "__________________________________________________________________________________________________\n",
      "tf_op_layer_Tanh_5 (TensorFlowO [(None, 32, 32, 64)] 0           tf_op_layer_Softplus_5[0][0]     \n",
      "__________________________________________________________________________________________________\n",
      "tf_op_layer_mul_5 (TensorFlowOp [(None, 32, 32, 64)] 0           conv2d_5[0][0]                   \n",
      "                                                                 tf_op_layer_Tanh_5[0][0]         \n",
      "__________________________________________________________________________________________________\n",
      "max_pooling2d_2 (MaxPooling2D)  (None, 16, 16, 64)   0           tf_op_layer_mul_5[0][0]          \n",
      "__________________________________________________________________________________________________\n",
      "conv2d_6 (Conv2D)               (None, 16, 16, 128)  73856       max_pooling2d_2[0][0]            \n",
      "__________________________________________________________________________________________________\n",
      "tf_op_layer_Softplus_6 (TensorF [(None, 16, 16, 128) 0           conv2d_6[0][0]                   \n",
      "__________________________________________________________________________________________________\n",
      "tf_op_layer_Tanh_6 (TensorFlowO [(None, 16, 16, 128) 0           tf_op_layer_Softplus_6[0][0]     \n",
      "__________________________________________________________________________________________________\n",
      "tf_op_layer_mul_6 (TensorFlowOp [(None, 16, 16, 128) 0           conv2d_6[0][0]                   \n",
      "                                                                 tf_op_layer_Tanh_6[0][0]         \n",
      "__________________________________________________________________________________________________\n",
      "conv2d_7 (Conv2D)               (None, 16, 16, 128)  147584      tf_op_layer_mul_6[0][0]          \n",
      "__________________________________________________________________________________________________\n",
      "tf_op_layer_Softplus_7 (TensorF [(None, 16, 16, 128) 0           conv2d_7[0][0]                   \n",
      "__________________________________________________________________________________________________\n",
      "tf_op_layer_Tanh_7 (TensorFlowO [(None, 16, 16, 128) 0           tf_op_layer_Softplus_7[0][0]     \n",
      "__________________________________________________________________________________________________\n",
      "tf_op_layer_mul_7 (TensorFlowOp [(None, 16, 16, 128) 0           conv2d_7[0][0]                   \n",
      "                                                                 tf_op_layer_Tanh_7[0][0]         \n",
      "__________________________________________________________________________________________________\n",
      "max_pooling2d_3 (MaxPooling2D)  (None, 8, 8, 128)    0           tf_op_layer_mul_7[0][0]          \n",
      "__________________________________________________________________________________________________\n",
      "conv2d_8 (Conv2D)               (None, 8, 8, 256)    295168      max_pooling2d_3[0][0]            \n",
      "__________________________________________________________________________________________________\n",
      "tf_op_layer_Softplus_8 (TensorF [(None, 8, 8, 256)]  0           conv2d_8[0][0]                   \n",
      "__________________________________________________________________________________________________\n",
      "tf_op_layer_Tanh_8 (TensorFlowO [(None, 8, 8, 256)]  0           tf_op_layer_Softplus_8[0][0]     \n",
      "__________________________________________________________________________________________________\n",
      "tf_op_layer_mul_8 (TensorFlowOp [(None, 8, 8, 256)]  0           conv2d_8[0][0]                   \n",
      "                                                                 tf_op_layer_Tanh_8[0][0]         \n",
      "__________________________________________________________________________________________________\n",
      "conv2d_9 (Conv2D)               (None, 8, 8, 256)    590080      tf_op_layer_mul_8[0][0]          \n",
      "__________________________________________________________________________________________________\n",
      "tf_op_layer_Softplus_9 (TensorF [(None, 8, 8, 256)]  0           conv2d_9[0][0]                   \n",
      "__________________________________________________________________________________________________\n",
      "tf_op_layer_Tanh_9 (TensorFlowO [(None, 8, 8, 256)]  0           tf_op_layer_Softplus_9[0][0]     \n",
      "__________________________________________________________________________________________________\n",
      "tf_op_layer_mul_9 (TensorFlowOp [(None, 8, 8, 256)]  0           conv2d_9[0][0]                   \n",
      "                                                                 tf_op_layer_Tanh_9[0][0]         \n",
      "__________________________________________________________________________________________________\n",
      "up_sampling2d (UpSampling2D)    (None, 16, 16, 256)  0           tf_op_layer_mul_9[0][0]          \n",
      "__________________________________________________________________________________________________\n",
      "concatenate (Concatenate)       (None, 16, 16, 384)  0           up_sampling2d[0][0]              \n",
      "                                                                 tf_op_layer_mul_7[0][0]          \n",
      "__________________________________________________________________________________________________\n",
      "conv2d_10 (Conv2D)              (None, 16, 16, 128)  442496      concatenate[0][0]                \n",
      "__________________________________________________________________________________________________\n",
      "tf_op_layer_Softplus_10 (Tensor [(None, 16, 16, 128) 0           conv2d_10[0][0]                  \n",
      "__________________________________________________________________________________________________\n",
      "tf_op_layer_Tanh_10 (TensorFlow [(None, 16, 16, 128) 0           tf_op_layer_Softplus_10[0][0]    \n",
      "__________________________________________________________________________________________________\n",
      "tf_op_layer_mul_10 (TensorFlowO [(None, 16, 16, 128) 0           conv2d_10[0][0]                  \n",
      "                                                                 tf_op_layer_Tanh_10[0][0]        \n",
      "__________________________________________________________________________________________________\n",
      "conv2d_11 (Conv2D)              (None, 16, 16, 128)  147584      tf_op_layer_mul_10[0][0]         \n",
      "__________________________________________________________________________________________________\n",
      "tf_op_layer_Softplus_11 (Tensor [(None, 16, 16, 128) 0           conv2d_11[0][0]                  \n",
      "__________________________________________________________________________________________________\n",
      "tf_op_layer_Tanh_11 (TensorFlow [(None, 16, 16, 128) 0           tf_op_layer_Softplus_11[0][0]    \n",
      "__________________________________________________________________________________________________\n",
      "tf_op_layer_mul_11 (TensorFlowO [(None, 16, 16, 128) 0           conv2d_11[0][0]                  \n",
      "                                                                 tf_op_layer_Tanh_11[0][0]        \n",
      "__________________________________________________________________________________________________\n",
      "up_sampling2d_1 (UpSampling2D)  (None, 32, 32, 128)  0           tf_op_layer_mul_11[0][0]         \n",
      "__________________________________________________________________________________________________\n",
      "concatenate_1 (Concatenate)     (None, 32, 32, 192)  0           up_sampling2d_1[0][0]            \n",
      "                                                                 tf_op_layer_mul_5[0][0]          \n",
      "__________________________________________________________________________________________________\n",
      "conv2d_12 (Conv2D)              (None, 32, 32, 64)   110656      concatenate_1[0][0]              \n",
      "__________________________________________________________________________________________________\n",
      "tf_op_layer_Softplus_12 (Tensor [(None, 32, 32, 64)] 0           conv2d_12[0][0]                  \n",
      "__________________________________________________________________________________________________\n",
      "tf_op_layer_Tanh_12 (TensorFlow [(None, 32, 32, 64)] 0           tf_op_layer_Softplus_12[0][0]    \n",
      "__________________________________________________________________________________________________\n",
      "tf_op_layer_mul_12 (TensorFlowO [(None, 32, 32, 64)] 0           conv2d_12[0][0]                  \n",
      "                                                                 tf_op_layer_Tanh_12[0][0]        \n",
      "__________________________________________________________________________________________________\n",
      "conv2d_13 (Conv2D)              (None, 32, 32, 64)   36928       tf_op_layer_mul_12[0][0]         \n",
      "__________________________________________________________________________________________________\n",
      "tf_op_layer_Softplus_13 (Tensor [(None, 32, 32, 64)] 0           conv2d_13[0][0]                  \n",
      "__________________________________________________________________________________________________\n",
      "tf_op_layer_Tanh_13 (TensorFlow [(None, 32, 32, 64)] 0           tf_op_layer_Softplus_13[0][0]    \n",
      "__________________________________________________________________________________________________\n",
      "tf_op_layer_mul_13 (TensorFlowO [(None, 32, 32, 64)] 0           conv2d_13[0][0]                  \n",
      "                                                                 tf_op_layer_Tanh_13[0][0]        \n",
      "__________________________________________________________________________________________________\n",
      "up_sampling2d_2 (UpSampling2D)  (None, 64, 64, 64)   0           tf_op_layer_mul_13[0][0]         \n",
      "__________________________________________________________________________________________________\n",
      "concatenate_2 (Concatenate)     (None, 64, 64, 96)   0           up_sampling2d_2[0][0]            \n",
      "                                                                 tf_op_layer_mul_3[0][0]          \n",
      "__________________________________________________________________________________________________\n",
      "conv2d_14 (Conv2D)              (None, 64, 64, 32)   27680       concatenate_2[0][0]              \n",
      "__________________________________________________________________________________________________\n",
      "tf_op_layer_Softplus_14 (Tensor [(None, 64, 64, 32)] 0           conv2d_14[0][0]                  \n",
      "__________________________________________________________________________________________________\n",
      "tf_op_layer_Tanh_14 (TensorFlow [(None, 64, 64, 32)] 0           tf_op_layer_Softplus_14[0][0]    \n",
      "__________________________________________________________________________________________________\n",
      "tf_op_layer_mul_14 (TensorFlowO [(None, 64, 64, 32)] 0           conv2d_14[0][0]                  \n",
      "                                                                 tf_op_layer_Tanh_14[0][0]        \n",
      "__________________________________________________________________________________________________\n",
      "conv2d_15 (Conv2D)              (None, 64, 64, 32)   9248        tf_op_layer_mul_14[0][0]         \n",
      "__________________________________________________________________________________________________\n",
      "tf_op_layer_Softplus_15 (Tensor [(None, 64, 64, 32)] 0           conv2d_15[0][0]                  \n",
      "__________________________________________________________________________________________________\n",
      "tf_op_layer_Tanh_15 (TensorFlow [(None, 64, 64, 32)] 0           tf_op_layer_Softplus_15[0][0]    \n",
      "__________________________________________________________________________________________________\n",
      "tf_op_layer_mul_15 (TensorFlowO [(None, 64, 64, 32)] 0           conv2d_15[0][0]                  \n",
      "                                                                 tf_op_layer_Tanh_15[0][0]        \n",
      "__________________________________________________________________________________________________\n",
      "up_sampling2d_3 (UpSampling2D)  (None, 128, 128, 32) 0           tf_op_layer_mul_15[0][0]         \n",
      "__________________________________________________________________________________________________\n",
      "concatenate_3 (Concatenate)     (None, 128, 128, 48) 0           up_sampling2d_3[0][0]            \n",
      "                                                                 tf_op_layer_mul_1[0][0]          \n",
      "__________________________________________________________________________________________________\n",
      "conv2d_16 (Conv2D)              (None, 128, 128, 16) 6928        concatenate_3[0][0]              \n",
      "__________________________________________________________________________________________________\n",
      "tf_op_layer_Softplus_16 (Tensor [(None, 128, 128, 16 0           conv2d_16[0][0]                  \n",
      "__________________________________________________________________________________________________\n",
      "tf_op_layer_Tanh_16 (TensorFlow [(None, 128, 128, 16 0           tf_op_layer_Softplus_16[0][0]    \n",
      "__________________________________________________________________________________________________\n",
      "tf_op_layer_mul_16 (TensorFlowO [(None, 128, 128, 16 0           conv2d_16[0][0]                  \n",
      "                                                                 tf_op_layer_Tanh_16[0][0]        \n",
      "__________________________________________________________________________________________________\n",
      "conv2d_17 (Conv2D)              (None, 128, 128, 16) 2320        tf_op_layer_mul_16[0][0]         \n",
      "__________________________________________________________________________________________________\n",
      "tf_op_layer_Softplus_17 (Tensor [(None, 128, 128, 16 0           conv2d_17[0][0]                  \n",
      "__________________________________________________________________________________________________\n",
      "tf_op_layer_Tanh_17 (TensorFlow [(None, 128, 128, 16 0           tf_op_layer_Softplus_17[0][0]    \n",
      "__________________________________________________________________________________________________\n",
      "tf_op_layer_mul_17 (TensorFlowO [(None, 128, 128, 16 0           conv2d_17[0][0]                  \n",
      "                                                                 tf_op_layer_Tanh_17[0][0]        \n",
      "__________________________________________________________________________________________________\n",
      "conv2d_18 (Conv2D)              (None, 128, 128, 1)  65          tf_op_layer_mul_17[0][0]         \n",
      "==================================================================================================\n",
      "Total params: 1,962,673\n",
      "Trainable params: 1,962,673\n",
      "Non-trainable params: 0\n",
      "__________________________________________________________________________________________________\n"
     ]
    }
   ],
   "source": [
    "model = UNet()\n",
    "model.compile(optimizer=\"adam\", loss=\"binary_crossentropy\", metrics=[\"acc\"])\n",
    "model.summary()"
   ]
  },
  {
   "cell_type": "code",
   "execution_count": 10,
   "metadata": {},
   "outputs": [
    {
     "name": "stdout",
     "output_type": "stream",
     "text": [
      "Epoch 1/35\n",
      "39/39 [==============================] - 102s 3s/step - loss: 0.4853 - acc: 0.8435 - val_loss: 0.4510 - val_acc: 0.8176\n",
      "Epoch 2/35\n",
      "39/39 [==============================] - 35s 893ms/step - loss: 0.4068 - acc: 0.8448 - val_loss: 0.4714 - val_acc: 0.8173\n",
      "Epoch 3/35\n",
      "39/39 [==============================] - 32s 833ms/step - loss: 0.5297 - acc: 0.8342 - val_loss: 0.4672 - val_acc: 0.8173\n",
      "Epoch 4/35\n",
      "39/39 [==============================] - 33s 836ms/step - loss: 0.4598 - acc: 0.8253 - val_loss: 0.4328 - val_acc: 0.8173\n",
      "Epoch 5/35\n",
      "39/39 [==============================] - 32s 829ms/step - loss: 0.4030 - acc: 0.8384 - val_loss: 0.4165 - val_acc: 0.8168\n",
      "Epoch 6/35\n",
      "39/39 [==============================] - 33s 838ms/step - loss: 0.3633 - acc: 0.8458 - val_loss: 0.3534 - val_acc: 0.8385\n",
      "Epoch 7/35\n",
      "39/39 [==============================] - 32s 826ms/step - loss: 0.3046 - acc: 0.8657 - val_loss: 0.2778 - val_acc: 0.8568\n",
      "Epoch 8/35\n",
      "39/39 [==============================] - 32s 831ms/step - loss: 0.2565 - acc: 0.8830 - val_loss: 0.3041 - val_acc: 0.8514\n",
      "Epoch 9/35\n",
      "39/39 [==============================] - 32s 827ms/step - loss: 0.2531 - acc: 0.8865 - val_loss: 0.2321 - val_acc: 0.8858\n",
      "Epoch 10/35\n",
      "39/39 [==============================] - 32s 825ms/step - loss: 0.2269 - acc: 0.8955 - val_loss: 0.2718 - val_acc: 0.8670\n",
      "Epoch 11/35\n",
      "39/39 [==============================] - 33s 835ms/step - loss: 0.2265 - acc: 0.8931 - val_loss: 0.2265 - val_acc: 0.8984\n",
      "Epoch 12/35\n",
      "39/39 [==============================] - 32s 825ms/step - loss: 0.2003 - acc: 0.9031 - val_loss: 0.2125 - val_acc: 0.8895\n",
      "Epoch 13/35\n",
      "39/39 [==============================] - 32s 823ms/step - loss: 0.1754 - acc: 0.9134 - val_loss: 0.1892 - val_acc: 0.8978\n",
      "Epoch 14/35\n",
      "39/39 [==============================] - 32s 823ms/step - loss: 0.1855 - acc: 0.9084 - val_loss: 0.1626 - val_acc: 0.9060\n",
      "Epoch 15/35\n",
      "39/39 [==============================] - 32s 826ms/step - loss: 0.1565 - acc: 0.9212 - val_loss: 0.1644 - val_acc: 0.9148\n",
      "Epoch 16/35\n",
      "39/39 [==============================] - 32s 822ms/step - loss: 0.1517 - acc: 0.9249 - val_loss: 0.1619 - val_acc: 0.9119\n",
      "Epoch 17/35\n",
      "39/39 [==============================] - 32s 827ms/step - loss: 0.1509 - acc: 0.9251 - val_loss: 0.1418 - val_acc: 0.9211\n",
      "Epoch 18/35\n",
      "39/39 [==============================] - 32s 823ms/step - loss: 0.1319 - acc: 0.9331 - val_loss: 0.1262 - val_acc: 0.9302\n",
      "Epoch 19/35\n",
      "39/39 [==============================] - 32s 833ms/step - loss: 0.1333 - acc: 0.9311 - val_loss: 0.1275 - val_acc: 0.9290\n",
      "Epoch 20/35\n",
      "39/39 [==============================] - 32s 831ms/step - loss: 0.1242 - acc: 0.9372 - val_loss: 0.1211 - val_acc: 0.9337\n",
      "Epoch 21/35\n",
      "39/39 [==============================] - 32s 825ms/step - loss: 0.1301 - acc: 0.9334 - val_loss: 0.1222 - val_acc: 0.9318\n",
      "Epoch 22/35\n",
      "39/39 [==============================] - 32s 826ms/step - loss: 0.1313 - acc: 0.9323 - val_loss: 0.1250 - val_acc: 0.9309\n",
      "Epoch 23/35\n",
      "39/39 [==============================] - 32s 824ms/step - loss: 0.1164 - acc: 0.9393 - val_loss: 0.1158 - val_acc: 0.9352\n",
      "Epoch 24/35\n",
      "39/39 [==============================] - 32s 824ms/step - loss: 0.1171 - acc: 0.9373 - val_loss: 0.1126 - val_acc: 0.9356\n",
      "Epoch 25/35\n",
      "39/39 [==============================] - 32s 824ms/step - loss: 0.1207 - acc: 0.9372 - val_loss: 0.1332 - val_acc: 0.9246\n",
      "Epoch 26/35\n",
      "39/39 [==============================] - 33s 848ms/step - loss: 0.1098 - acc: 0.9408 - val_loss: 0.1364 - val_acc: 0.9249\n",
      "Epoch 27/35\n",
      "23/39 [================>.............] - ETA: 12s - loss: 0.1156 - acc: 0.9382"
     ]
    },
    {
     "ename": "KeyboardInterrupt",
     "evalue": "",
     "output_type": "error",
     "traceback": [
      "\u001b[1;31m---------------------------------------------------------------------------\u001b[0m",
      "\u001b[1;31mKeyboardInterrupt\u001b[0m                         Traceback (most recent call last)",
      "\u001b[1;32m<ipython-input-10-a033b35dfce4>\u001b[0m in \u001b[0;36m<module>\u001b[1;34m\u001b[0m\n\u001b[0;32m      6\u001b[0m \u001b[1;33m\u001b[0m\u001b[0m\n\u001b[0;32m      7\u001b[0m history_relu = model.fit_generator(train_gen, validation_data=valid_gen, steps_per_epoch=train_steps, validation_steps=valid_steps, \n\u001b[1;32m----> 8\u001b[1;33m                     epochs=epochs)\n\u001b[0m",
      "\u001b[1;32m~\\Anaconda3\\lib\\site-packages\\tensorflow\\python\\keras\\engine\\training.py\u001b[0m in \u001b[0;36mfit_generator\u001b[1;34m(self, generator, steps_per_epoch, epochs, verbose, callbacks, validation_data, validation_steps, validation_freq, class_weight, max_queue_size, workers, use_multiprocessing, shuffle, initial_epoch)\u001b[0m\n\u001b[0;32m   1431\u001b[0m         \u001b[0mshuffle\u001b[0m\u001b[1;33m=\u001b[0m\u001b[0mshuffle\u001b[0m\u001b[1;33m,\u001b[0m\u001b[1;33m\u001b[0m\u001b[1;33m\u001b[0m\u001b[0m\n\u001b[0;32m   1432\u001b[0m         \u001b[0minitial_epoch\u001b[0m\u001b[1;33m=\u001b[0m\u001b[0minitial_epoch\u001b[0m\u001b[1;33m,\u001b[0m\u001b[1;33m\u001b[0m\u001b[1;33m\u001b[0m\u001b[0m\n\u001b[1;32m-> 1433\u001b[1;33m         steps_name='steps_per_epoch')\n\u001b[0m\u001b[0;32m   1434\u001b[0m \u001b[1;33m\u001b[0m\u001b[0m\n\u001b[0;32m   1435\u001b[0m   def evaluate_generator(self,\n",
      "\u001b[1;32m~\\Anaconda3\\lib\\site-packages\\tensorflow\\python\\keras\\engine\\training_generator.py\u001b[0m in \u001b[0;36mmodel_iteration\u001b[1;34m(model, data, steps_per_epoch, epochs, verbose, callbacks, validation_data, validation_steps, validation_freq, class_weight, max_queue_size, workers, use_multiprocessing, shuffle, initial_epoch, mode, batch_size, steps_name, **kwargs)\u001b[0m\n\u001b[0;32m    262\u001b[0m \u001b[1;33m\u001b[0m\u001b[0m\n\u001b[0;32m    263\u001b[0m       \u001b[0mis_deferred\u001b[0m \u001b[1;33m=\u001b[0m \u001b[1;32mnot\u001b[0m \u001b[0mmodel\u001b[0m\u001b[1;33m.\u001b[0m\u001b[0m_is_compiled\u001b[0m\u001b[1;33m\u001b[0m\u001b[1;33m\u001b[0m\u001b[0m\n\u001b[1;32m--> 264\u001b[1;33m       \u001b[0mbatch_outs\u001b[0m \u001b[1;33m=\u001b[0m \u001b[0mbatch_function\u001b[0m\u001b[1;33m(\u001b[0m\u001b[1;33m*\u001b[0m\u001b[0mbatch_data\u001b[0m\u001b[1;33m)\u001b[0m\u001b[1;33m\u001b[0m\u001b[1;33m\u001b[0m\u001b[0m\n\u001b[0m\u001b[0;32m    265\u001b[0m       \u001b[1;32mif\u001b[0m \u001b[1;32mnot\u001b[0m \u001b[0misinstance\u001b[0m\u001b[1;33m(\u001b[0m\u001b[0mbatch_outs\u001b[0m\u001b[1;33m,\u001b[0m \u001b[0mlist\u001b[0m\u001b[1;33m)\u001b[0m\u001b[1;33m:\u001b[0m\u001b[1;33m\u001b[0m\u001b[1;33m\u001b[0m\u001b[0m\n\u001b[0;32m    266\u001b[0m         \u001b[0mbatch_outs\u001b[0m \u001b[1;33m=\u001b[0m \u001b[1;33m[\u001b[0m\u001b[0mbatch_outs\u001b[0m\u001b[1;33m]\u001b[0m\u001b[1;33m\u001b[0m\u001b[1;33m\u001b[0m\u001b[0m\n",
      "\u001b[1;32m~\\Anaconda3\\lib\\site-packages\\tensorflow\\python\\keras\\engine\\training.py\u001b[0m in \u001b[0;36mtrain_on_batch\u001b[1;34m(self, x, y, sample_weight, class_weight, reset_metrics)\u001b[0m\n\u001b[0;32m   1173\u001b[0m       \u001b[0mself\u001b[0m\u001b[1;33m.\u001b[0m\u001b[0m_update_sample_weight_modes\u001b[0m\u001b[1;33m(\u001b[0m\u001b[0msample_weights\u001b[0m\u001b[1;33m=\u001b[0m\u001b[0msample_weights\u001b[0m\u001b[1;33m)\u001b[0m\u001b[1;33m\u001b[0m\u001b[1;33m\u001b[0m\u001b[0m\n\u001b[0;32m   1174\u001b[0m       \u001b[0mself\u001b[0m\u001b[1;33m.\u001b[0m\u001b[0m_make_train_function\u001b[0m\u001b[1;33m(\u001b[0m\u001b[1;33m)\u001b[0m\u001b[1;33m\u001b[0m\u001b[1;33m\u001b[0m\u001b[0m\n\u001b[1;32m-> 1175\u001b[1;33m       \u001b[0moutputs\u001b[0m \u001b[1;33m=\u001b[0m \u001b[0mself\u001b[0m\u001b[1;33m.\u001b[0m\u001b[0mtrain_function\u001b[0m\u001b[1;33m(\u001b[0m\u001b[0mins\u001b[0m\u001b[1;33m)\u001b[0m  \u001b[1;31m# pylint: disable=not-callable\u001b[0m\u001b[1;33m\u001b[0m\u001b[1;33m\u001b[0m\u001b[0m\n\u001b[0m\u001b[0;32m   1176\u001b[0m \u001b[1;33m\u001b[0m\u001b[0m\n\u001b[0;32m   1177\u001b[0m     \u001b[1;32mif\u001b[0m \u001b[0mreset_metrics\u001b[0m\u001b[1;33m:\u001b[0m\u001b[1;33m\u001b[0m\u001b[1;33m\u001b[0m\u001b[0m\n",
      "\u001b[1;32m~\\Anaconda3\\lib\\site-packages\\tensorflow\\python\\keras\\backend.py\u001b[0m in \u001b[0;36m__call__\u001b[1;34m(self, inputs)\u001b[0m\n\u001b[0;32m   3290\u001b[0m \u001b[1;33m\u001b[0m\u001b[0m\n\u001b[0;32m   3291\u001b[0m     fetched = self._callable_fn(*array_vals,\n\u001b[1;32m-> 3292\u001b[1;33m                                 run_metadata=self.run_metadata)\n\u001b[0m\u001b[0;32m   3293\u001b[0m     \u001b[0mself\u001b[0m\u001b[1;33m.\u001b[0m\u001b[0m_call_fetch_callbacks\u001b[0m\u001b[1;33m(\u001b[0m\u001b[0mfetched\u001b[0m\u001b[1;33m[\u001b[0m\u001b[1;33m-\u001b[0m\u001b[0mlen\u001b[0m\u001b[1;33m(\u001b[0m\u001b[0mself\u001b[0m\u001b[1;33m.\u001b[0m\u001b[0m_fetches\u001b[0m\u001b[1;33m)\u001b[0m\u001b[1;33m:\u001b[0m\u001b[1;33m]\u001b[0m\u001b[1;33m)\u001b[0m\u001b[1;33m\u001b[0m\u001b[1;33m\u001b[0m\u001b[0m\n\u001b[0;32m   3294\u001b[0m     output_structure = nest.pack_sequence_as(\n",
      "\u001b[1;32m~\\Anaconda3\\lib\\site-packages\\tensorflow\\python\\client\\session.py\u001b[0m in \u001b[0;36m__call__\u001b[1;34m(self, *args, **kwargs)\u001b[0m\n\u001b[0;32m   1456\u001b[0m         ret = tf_session.TF_SessionRunCallable(self._session._session,\n\u001b[0;32m   1457\u001b[0m                                                \u001b[0mself\u001b[0m\u001b[1;33m.\u001b[0m\u001b[0m_handle\u001b[0m\u001b[1;33m,\u001b[0m \u001b[0margs\u001b[0m\u001b[1;33m,\u001b[0m\u001b[1;33m\u001b[0m\u001b[1;33m\u001b[0m\u001b[0m\n\u001b[1;32m-> 1458\u001b[1;33m                                                run_metadata_ptr)\n\u001b[0m\u001b[0;32m   1459\u001b[0m         \u001b[1;32mif\u001b[0m \u001b[0mrun_metadata\u001b[0m\u001b[1;33m:\u001b[0m\u001b[1;33m\u001b[0m\u001b[1;33m\u001b[0m\u001b[0m\n\u001b[0;32m   1460\u001b[0m           \u001b[0mproto_data\u001b[0m \u001b[1;33m=\u001b[0m \u001b[0mtf_session\u001b[0m\u001b[1;33m.\u001b[0m\u001b[0mTF_GetBuffer\u001b[0m\u001b[1;33m(\u001b[0m\u001b[0mrun_metadata_ptr\u001b[0m\u001b[1;33m)\u001b[0m\u001b[1;33m\u001b[0m\u001b[1;33m\u001b[0m\u001b[0m\n",
      "\u001b[1;31mKeyboardInterrupt\u001b[0m: "
     ]
    }
   ],
   "source": [
    "train_gen = DataGen(train_ids, train_path, image_size=image_size, batch_size=batch_size)\n",
    "valid_gen = DataGen(valid_ids, train_path, image_size=image_size, batch_size=batch_size)\n",
    "\n",
    "train_steps = len(train_ids)//batch_size\n",
    "valid_steps = len(valid_ids)//batch_size\n",
    "\n",
    "history_relu = model.fit_generator(train_gen, validation_data=valid_gen, steps_per_epoch=train_steps, validation_steps=valid_steps, \n",
    "                    epochs=epochs)"
   ]
  },
  {
   "cell_type": "code",
   "execution_count": 11,
   "metadata": {},
   "outputs": [
    {
     "name": "stdout",
     "output_type": "stream",
     "text": [
      "dict_keys(['loss', 'acc', 'val_loss', 'val_acc'])\n"
     ]
    },
    {
     "data": {
      "image/png": "[encoded data removed]",
      "text/plain": [
       "<Figure size 432x288 with 1 Axes>"
      ]
     },
     "metadata": {
      "needs_background": "light"
     },
     "output_type": "display_data"
    },
    {
     "data": {
      "image/png": "[encoded data removed]",
      "text/plain": [
       "<Figure size 432x288 with 1 Axes>"
      ]
     },
     "metadata": {
      "needs_background": "light"
     },
     "output_type": "display_data"
    }
   ],
   "source": [
    "print(history_relu.history.keys())\n",
    "#  \"Accuracy\"\n",
    "plt.plot(history_relu.history['acc'])\n",
    "plt.plot(history_relu.history['val_acc'])\n",
    "plt.title('model accuracy')\n",
    "plt.ylabel('accuracy')\n",
    "plt.xlabel('epoch')\n",
    "plt.legend(['train', 'validation'], loc='upper left')\n",
    "plt.show()\n",
    "# \"Loss\"\n",
    "#plt.plot(history_relu.history['loss'])\n",
    "plt.plot(history_relu.history['val_loss'])\n",
    "plt.title('model loss')\n",
    "plt.ylabel('loss')\n",
    "plt.xlabel('epoch')\n",
    "plt.legend(['Validation loss', 'validation'], loc='upper left')\n",
    "plt.show()"
   ]
  },
  {
   "cell_type": "code",
   "execution_count": 12,
   "metadata": {},
   "outputs": [],
   "source": [
    "## Save the Weights\n",
    "model.save_weights(\"UNetW.hmish\")\n",
    "\n",
    "## Dataset for prediction\n",
    "x, y = valid_gen.__getitem__(0)\n",
    "result = model.predict(x)\n",
    "\n",
    "result = result > 0.5"
   ]
  },
  {
   "cell_type": "code",
   "execution_count": 13,
   "metadata": {},
   "outputs": [
    {
     "name": "stdout",
     "output_type": "stream",
     "text": [
      "0.8885157824042982\n",
      "0.9409672830725462\n",
      "0.11148421759570182\n"
     ]
    },
    {
     "data": {
      "image/png": "[encoded data removed]",
      "text/plain": [
       "<Figure size 432x288 with 2 Axes>"
      ]
     },
     "metadata": {
      "needs_background": "light"
     },
     "output_type": "display_data"
    }
   ],
   "source": [
    "fig = plt.figure()\n",
    "fig.subplots_adjust(hspace=0.4, wspace=0.4)\n",
    "\n",
    "ax = fig.add_subplot(1, 2, 1)\n",
    "ax.imshow(np.reshape(y[1]*255, (image_size, image_size)), cmap=\"gray\")\n",
    "\n",
    "ax = fig.add_subplot(1, 2, 2)\n",
    "\n",
    "ax.imshow(np.reshape(result[1]*255, (image_size, image_size)), cmap=\"gray\")\n",
    "y_pred=np.reshape(result[1]*255, (image_size, image_size))\n",
    "y_true=np.reshape(y[1]*255, (image_size, image_size))\n",
    "intersection = np.logical_and(y_true, y_pred)\n",
    "union = np.logical_or(y_true, y_pred)\n",
    "iou_score = np.sum(intersection) / np.sum(union)\n",
    "mean, std_1 = cv2.meanStdDev(y_pred, y_true)\n",
    "print(iou_score) \n",
    "img1 = np.asarray(y_true).astype(np.bool)\n",
    "img2 = np.asarray(y_pred).astype(np.bool)\n",
    "if img1.sum() + img2.sum() == 0:\n",
    "    print(1) \n",
    "intersection = np.logical_and(img1, img2)\n",
    "print(2. * intersection.sum() / (img1.sum() + img2.sum()))\n",
    "intersection=abs(intersection)\n",
    "union=abs(union)\n",
    "voe=1-(intersection.sum()/union.sum())\n",
    "print(voe)"
   ]
  },
  {
   "cell_type": "code",
   "execution_count": 14,
   "metadata": {},
   "outputs": [
    {
     "name": "stdout",
     "output_type": "stream",
     "text": [
      "0.7628243814121907\n",
      "0.8654570352618967\n",
      "0.23717561858780933\n"
     ]
    },
    {
     "data": {
      "image/png": "[encoded data removed]",
      "text/plain": [
       "<Figure size 432x288 with 2 Axes>"
      ]
     },
     "metadata": {
      "needs_background": "light"
     },
     "output_type": "display_data"
    }
   ],
   "source": [
    "fig = plt.figure()\n",
    "fig.subplots_adjust(hspace=0.4, wspace=0.4)\n",
    "\n",
    "ax = fig.add_subplot(1, 2, 1)\n",
    "ax.imshow(np.reshape(y[0]*255, (image_size, image_size)), cmap=\"gray\")\n",
    "\n",
    "ax = fig.add_subplot(1, 2, 2)\n",
    "ax.imshow(np.reshape(result[0]*255, (image_size, image_size)), cmap=\"gray\")\n",
    "\n",
    "y_pred=np.reshape(result[0]*255, (image_size, image_size))\n",
    "y_true=np.reshape(y[0]*255, (image_size, image_size))\n",
    "intersection = np.logical_and(y_true, y_pred)\n",
    "union = np.logical_or(y_true, y_pred)\n",
    "iou_score = np.sum(intersection) / np.sum(union)\n",
    "mean, std_1 = cv2.meanStdDev(y_pred, y_true)\n",
    "print(iou_score) \n",
    "img1 = np.asarray(y_true).astype(np.bool)\n",
    "img2 = np.asarray(y_pred).astype(np.bool)\n",
    "if img1.sum() + img2.sum() == 0:\n",
    "    print(1) \n",
    "intersection = np.logical_and(img1, img2)\n",
    "print(2. * intersection.sum() / (img1.sum() + img2.sum()))\n",
    "intersection=abs(intersection)\n",
    "union=abs(union)\n",
    "voe=1-(intersection.sum()/union.sum())\n",
    "print(voe)"
   ]
  },
  {
   "cell_type": "code",
   "execution_count": null,
   "metadata": {},
   "outputs": [],
   "source": []
  }
 ],
 "metadata": {
  "kernelspec": {
   "display_name": "Python 3",
   "language": "python",
   "name": "python3"
  },
  "language_info": {
   "codemirror_mode": {
    "name": "ipython",
    "version": 3
   },
   "file_extension": ".py",
   "mimetype": "text/x-python",
   "name": "python",
   "nbconvert_exporter": "python",
   "pygments_lexer": "ipython3",
   "version": "3.7.9"
  }
 },
 "nbformat": 4,
 "nbformat_minor": 4
}
