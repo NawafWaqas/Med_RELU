{
 "cells": [
  {
   "cell_type": "code",
   "execution_count": null,
   "metadata": {
    "colab": {},
    "colab_type": "code",
    "id": "oBkN5C-ITTcQ",
    "scrolled": true
   },
   "outputs": [],
   "source": [
    "from __future__ import print_function\n",
    "from __future__ import division\n",
    "\n",
    "import matplotlib.pyplot as plt\n",
    "import numpy as np\n",
    "import math\n",
    "\n",
    "from config import cfg\n",
    "from net import DCGAN\n",
    "import tensorflow as tf\n",
    "#from tensorflow.python.framework import ops\n",
    "import tensorflow.compat.v1 as tf\n",
    "tf.disable_v2_behavior()"
   ]
  },
  {
   "cell_type": "markdown",
   "metadata": {
    "colab_type": "text",
    "id": "-SAG3qXeTTcn"
   },
   "source": [
    "### Set parameters  \n",
    "All the parameters can be found in `config.py`"
   ]
  },
  {
   "cell_type": "code",
   "execution_count": null,
   "metadata": {
    "colab": {},
    "colab_type": "code",
    "id": "WKUga1IbTTcq"
   },
   "outputs": [],
   "source": [
    "#ops.reset_default_graph()\n",
    "#tf.reset_default_graph()\n",
    "tf.compat.v1.reset_default_graph()\n",
    "cfg.beta1 = 0.\n",
    "cfg.beta2 = 0.99\n",
    "cfg.batch_size = 16\n",
    "cfg.save_period = 1000\n",
    "cfg.display_period = 100\n",
    "cfg.n_iters = 20000\n",
    "cfg.n_critic = 1\n",
    "cfg.learning_rate = 0.001\n",
    "cfg.norm_g = 'pixel_norm'\n",
    "cfg.norm_d = None\n",
    "cfg.weight_scale = True\n",
    "cfg.drift_loss = True\n",
    "cfg.loss_mode = 'js'\n",
    "cfg.use_tanh = True\n",
    "cfg.save_images = True"
   ]
  },
  {
   "cell_type": "markdown",
   "metadata": {
    "colab_type": "text",
    "id": "SGmoEENyTTc4"
   },
   "source": [
    "### Step-1 : Train at 8x8 resolution\n",
    "In the paper, they start with 4x4 resolution but it doesn't matter"
   ]
  },
  {
   "cell_type": "code",
   "execution_count": null,
   "metadata": {
    "colab": {},
    "colab_type": "code",
    "id": "8ACpBkDsTTc8",
    "scrolled": true
   },
   "outputs": [],
   "source": [
    "cfg.resolution = 8\n",
    "cfg.transition = False\n",
    "cfg.load_model = None\n",
    "\n",
    "model = DCGAN(cfg)\n",
    "model.train()"
   ]
  },
  {
   "cell_type": "markdown",
   "metadata": {
    "colab_type": "text",
    "id": "9VQ2e3DmTTdL"
   },
   "source": [
    "### Step-2 : Transition from 8x8 to 16x16 resolution (fading)\n",
    "Note that this step will automatically load model from 8x8 resolution (`models/8x8`). So, you can leave `cfg.load_model = None`."
   ]
  },
  {
   "cell_type": "code",
   "execution_count": null,
   "metadata": {
    "colab": {},
    "colab_type": "code",
    "id": "kUIY5asATTdP",
    "scrolled": true
   },
   "outputs": [],
   "source": [
    "tf.reset_default_graph()\n",
    "cfg.resolution = 16\n",
    "cfg.transition = True\n",
    "cfg.load_model = None\n",
    "\n",
    "model = DCGAN(cfg)\n",
    "model.train()"
   ]
  },
  {
   "cell_type": "markdown",
   "metadata": {
    "colab_type": "text",
    "id": "NEk_cX16TTdc"
   },
   "source": [
    "### Step-3 : Train at  16x16 resolution\n",
    "Now, you must load model from previous step to continue. Model from previous step is saved in `models/16x16_transition`, so we set `cfg.load_model = '16x16_transition`."
   ]
  },
  {
   "cell_type": "code",
   "execution_count": null,
   "metadata": {
    "colab": {},
    "colab_type": "code",
    "id": "wjFDtBc_TTdf",
    "scrolled": true
   },
   "outputs": [],
   "source": [
    "tf.reset_default_graph()\n",
    "cfg.resolution = 16\n",
    "cfg.transition = False\n",
    "cfg.load_model = '16x16_transition'\n",
    "\n",
    "model = DCGAN(cfg)\n",
    "model.train()"
   ]
  },
  {
   "cell_type": "markdown",
   "metadata": {
    "colab_type": "text",
    "id": "0G_rlP_RTTdr"
   },
   "source": [
    "### Step-4 : Transition from 16x16 to 32x32 resolution (fading)\n",
    "Again, this step will automatically load model from `models/16x16`."
   ]
  },
  {
   "cell_type": "code",
   "execution_count": null,
   "metadata": {
    "colab": {},
    "colab_type": "code",
    "id": "DcMDacvbTTdt",
    "scrolled": true
   },
   "outputs": [],
   "source": [
    "tf.reset_default_graph()\n",
    "cfg.resolution = 32\n",
    "cfg.transition = True\n",
    "cfg.load_model = None\n",
    "\n",
    "model = DCGAN(cfg)\n",
    "model.train()"
   ]
  },
  {
   "cell_type": "markdown",
   "metadata": {
    "colab_type": "text",
    "id": "BXmt2ciiTTd_"
   },
   "source": [
    "### Step-5 : Train at  32x32 resolution\n",
    "Now, we load model from previous step saved in `models/32x32_transition`"
   ]
  },
  {
   "cell_type": "code",
   "execution_count": null,
   "metadata": {
    "colab": {},
    "colab_type": "code",
    "id": "gPYGPFVvTTeD",
    "scrolled": true
   },
   "outputs": [],
   "source": [
    "tf.reset_default_graph()\n",
    "cfg.resolution = 32\n",
    "cfg.transition = False\n",
    "cfg.load_model = '32x32_transition'\n",
    "\n",
    "model = DCGAN(cfg)\n",
    "model.train()"
   ]
  },
  {
   "cell_type": "markdown",
   "metadata": {
    "colab_type": "text",
    "id": "dbbo1oo3TTeP"
   },
   "source": [
    "Hopefully, you get the idea now. So you can continue this process to higher resolutions."
   ]
  },
  {
   "cell_type": "code",
   "execution_count": null,
   "metadata": {
    "scrolled": true
   },
   "outputs": [],
   "source": [
    "tf.reset_default_graph()\n",
    "cfg.resolution = 64\n",
    "cfg.transition = True\n",
    "cfg.load_model = None\n",
    "\n",
    "model = DCGAN(cfg)\n",
    "model.train()"
   ]
  },
  {
   "cell_type": "code",
   "execution_count": null,
   "metadata": {
    "scrolled": true
   },
   "outputs": [],
   "source": [
    "tf.reset_default_graph()\n",
    "cfg.resolution = 64\n",
    "cfg.transition = False\n",
    "cfg.load_model = '64x64_transition'\n",
    "\n",
    "model = DCGAN(cfg)\n",
    "model.train()"
   ]
  },
  {
   "cell_type": "code",
   "execution_count": null,
   "metadata": {
    "scrolled": true
   },
   "outputs": [],
   "source": [
    "tf.reset_default_graph()\n",
    "cfg.resolution = 128\n",
    "cfg.transition = True\n",
    "cfg.load_model = None\n",
    "\n",
    "model = DCGAN(cfg)\n",
    "model.train()"
   ]
  },
  {
   "cell_type": "code",
   "execution_count": null,
   "metadata": {},
   "outputs": [],
   "source": [
    "tf.reset_default_graph()\n",
    "cfg.resolution = 128\n",
    "cfg.transition = False\n",
    "cfg.load_model = '128x128_transition'\n",
    "\n",
    "model = DCGAN(cfg)\n",
    "model.train()"
   ]
  },
  {
   "cell_type": "code",
   "execution_count": null,
   "metadata": {},
   "outputs": [],
   "source": [
    "tf.reset_default_graph()\n",
    "cfg.resolution = 256\n",
    "cfg.transition = True\n",
    "cfg.load_model = None\n",
    "\n",
    "model = DCGAN(cfg)\n",
    "model.train()"
   ]
  },
  {
   "cell_type": "code",
   "execution_count": null,
   "metadata": {},
   "outputs": [],
   "source": [
    "tf.reset_default_graph()\n",
    "cfg.resolution = 256\n",
    "cfg.transition = False\n",
    "cfg.load_model = '256x256_transition'\n",
    "\n",
    "model = DCGAN(cfg)\n",
    "model.train()"
   ]
  }
 ],
 "metadata": {
  "colab": {
   "name": "training_walkthrough.ipynb",
   "provenance": []
  },
  "kernelspec": {
   "display_name": "Python 3",
   "language": "python",
   "name": "python3"
  },
  "language_info": {
   "codemirror_mode": {
    "name": "ipython",
    "version": 3
   },
   "file_extension": ".py",
   "mimetype": "text/x-python",
   "name": "python",
   "nbconvert_exporter": "python",
   "pygments_lexer": "ipython3",
   "version": "3.7.6"
  }
 },
 "nbformat": 4,
 "nbformat_minor": 1
}
